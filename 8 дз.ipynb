{
 "cells": [
  {
   "cell_type": "code",
   "execution_count": 1,
   "metadata": {},
   "outputs": [
    {
     "name": "stdout",
     "output_type": "stream",
     "text": [
      " is there a way to apply a background color through css at the tr level i can apply it at the td level like this my td background color e8e8e8 background e8e8e8 however the background color doesn t seem to get applied when i attempt to apply the background color at the tr level like this my tr background color e8e8e8 background e8e8e8 is there a css trick to making this work or does css not natively support this for some reason \tcss css3 css-selectors\r\n"
     ]
    }
   ],
   "source": [
    "!head -1 stackoverflow.10kk.tsv"
   ]
  },
  {
   "cell_type": "code",
   "execution_count": 2,
   "metadata": {},
   "outputs": [
    {
     "name": "stdout",
     "output_type": "stream",
     "text": [
      "10000000 stackoverflow.10kk.tsv\n",
      "CPU times: user 1.08 s, sys: 280 ms, total: 1.36 s\n",
      "Wall time: 34.8 s\n"
     ]
    }
   ],
   "source": [
    "%%time\n",
    "!wc -l stackoverflow.10kk.tsv"
   ]
  },
  {
   "cell_type": "code",
   "execution_count": 3,
   "metadata": {
    "collapsed": true
   },
   "outputs": [],
   "source": [
    "import os\n",
    "from tqdm import tqdm\n",
    "from time import time\n",
    "import numpy as np\n",
    "import pandas as pd\n",
    "from sklearn.metrics import accuracy_score\n",
    "\n",
    "PATH_TO_DATA = ('D:/Anaconda/PyCharm1/')"
   ]
  },
  {
   "cell_type": "code",
   "execution_count": 4,
   "metadata": {},
   "outputs": [
    {
     "name": "stdout",
     "output_type": "stream",
     "text": [
      "10000000it [02:19, 71802.03it/s]\n",
      "4389054 lines selected, 15 lines corrupted.\n"
     ]
    }
   ],
   "source": [
    "!python preprocess_sof.py stackoverflow.10kk.tsv stackoverflow.vw"
   ]
  },
  {
   "cell_type": "code",
   "execution_count": 5,
   "metadata": {},
   "outputs": [
    {
     "name": "stdout",
     "output_type": "stream",
     "text": [
      "4389054 stackoverflow.vw\n",
      "CPU times: user 550 ms, sys: 170 ms, total: 720 ms\n",
      "Wall time: 18.2 s\n"
     ]
    }
   ],
   "source": [
    "%%time\n",
    "!wc -l stackoverflow.vw"
   ]
  },
  {
   "cell_type": "code",
   "execution_count": 6,
   "metadata": {
    "collapsed": true
   },
   "outputs": [],
   "source": [
    "!gzip stackoverflow.10kk.tsv"
   ]
  },
  {
   "cell_type": "code",
   "execution_count": null,
   "metadata": {
    "collapsed": true
   },
   "outputs": [],
   "source": [
    "# делим файл на 3 части по 1.463.018 строк\n",
    "# -a позволяет контролировать длину суффикса(в данном случае длина первого суффикса = 1)\n",
    "# -d позволяет использовать числовой суффикс\n",
    "!split -l 1463018 -a 1 - d stackoverflow.vw\n",
    "# на выходе получим: x0, x1, x2. P.S. переименуем их ручками.\n",
    "\n",
    "\n",
    "# векторы ответов\n",
    "!cut -c 1 stackoverflow_valid.vw > stackoverflow_valid_labels.txt\n",
    "!cut -c 1 stackoverflow_test.vw > stackoverflow_test_labels.txt\n",
    "\n",
    "#ЭТО НЕ НУЖНО, ОТВЕТЫ НЕЛЬЗЯ УДАЛЯТЬ, но код просто так на будущее\n",
    "# удаляем ответы из самих файлов(первые 4 строки), оставляя только текст\n",
    "!sed -r 's/.{4}//' stackoverflow_train.vw"
   ]
  },
  {
   "cell_type": "code",
   "execution_count": null,
   "metadata": {
    "collapsed": true
   },
   "outputs": [],
   "source": [
    "./vw --oaa 10 # 10-классовая задача\n",
    "-d 'D:/Anaconda/PyCharm1/stackoverflow_train.vw' # путь к данным\n",
    "-f -'D:/Anaconda/PyCharm1/vw_model_Xngram_Xpasses.vw'# путь к модели\n",
    "-b 28 # бит для хэширования\n",
    "--random_seed 18 # сид\n",
    "--ngram X # Х = 1, 2, 3\n",
    "--passes X # X = 1, 3, 5\n",
    "-c # использование кэша(для passes= 3, 5)"
   ]
  },
  {
   "cell_type": "code",
   "execution_count": null,
   "metadata": {
    "collapsed": true
   },
   "outputs": [],
   "source": [
    "./vw -t -i 'D:/Anaconda/PyCharm1/vw_model_Xngram_Xpasses.vw' # обученная модель\n",
    "-d 'D:/Anaconda/PyCharm1/stackoverflow_valid.vw' # какую модель хотим проверить\n",
    "-p 'D:/Anaconda/PyCharm1/vw_model_1ngram_1passes_pred.csv' # куда хотим записать предсказания\n",
    "--random_seed 18"
   ]
  },
  {
   "cell_type": "code",
   "execution_count": 29,
   "metadata": {},
   "outputs": [
    {
     "name": "stdout",
     "output_type": "stream",
     "text": [
      "Ngram = 1 Passes = 1 Accuracy = 0.894877574985\n",
      "Ngram = 1 Passes = 3 Accuracy = 0.893934319332\n",
      "Ngram = 1 Passes = 5 Accuracy = 0.893015670347\n",
      "Ngram = 2 Passes = 1 Accuracy = 0.910350385299\n",
      "Ngram = 2 Passes = 3 Accuracy = 0.906772165483\n",
      "Ngram = 2 Passes = 5 Accuracy = 0.908225326004\n",
      "Ngram = 3 Passes = 1 Accuracy = 0.907940298752\n",
      "Ngram = 3 Passes = 3 Accuracy = 0.90553773091\n",
      "Ngram = 3 Passes = 5 Accuracy = 0.90534839626\n",
      "Best accuracy = 0.910350385299\n",
      "Wall time: 3min 10s\n"
     ]
    }
   ],
   "source": [
    "%%time\n",
    "# Доля правильных ответов на отложенной выборке:\n",
    "accuracy_list = []\n",
    "for i in range(1, 4):\n",
    "    for j in range(1, 7, 2):\n",
    "        vw_pred = np.loadtxt(os.path.join(PATH_TO_DATA, 'vw_model_{}ngram_{}passes_pred.csv'.format(i, j)))\n",
    "        valid_labels = np.loadtxt(os.path.join(PATH_TO_DATA, 'stackoverflow_valid_labels.txt'))\n",
    "        score = accuracy_score(valid_labels, vw_pred)\n",
    "        accuracy_list.append(score)\n",
    "        print('Ngram =', i, 'Passes =', j, 'Accuracy =', score)\n",
    "print('Best accuracy =', max(accuracy_list))"
   ]
  },
  {
   "cell_type": "markdown",
   "metadata": {},
   "source": [
    "1:\n",
    "Биграммы и 1 проход по выборке\n"
   ]
  },
  {
   "cell_type": "code",
   "execution_count": null,
   "metadata": {
    "collapsed": true
   },
   "outputs": [],
   "source": [
    "./vw -t -i 'D:/Anaconda/PyCharm1/vw_model_2ngram_1passes.vw' # обученная модель\n",
    "-d 'D:/Anaconda/PyCharm1/stackoverflow_test.vw' # какую модель хотим проверить\n",
    "-p 'D:/Anaconda/PyCharm1/vw_model_2ngram_1passes_pred_for_test.csv' # куда хотим записать предсказания\n",
    "--random_seed 18"
   ]
  },
  {
   "cell_type": "code",
   "execution_count": 17,
   "metadata": {},
   "outputs": [
    {
     "name": "stdout",
     "output_type": "stream",
     "text": [
      "0.910435141605\n"
     ]
    }
   ],
   "source": [
    "vw_test = np.loadtxt(os.path.join(PATH_TO_DATA, 'vw_model_2ngram_1passes_pred_for_test.csv'))\n",
    "test_labels = np.loadtxt(os.path.join(PATH_TO_DATA, 'stackoverflow_test_labels.txt'))\n",
    "best_accuracy_1 = accuracy_score(test_labels, vw_test)\n",
    "print(best_accuracy_1)"
   ]
  },
  {
   "cell_type": "code",
   "execution_count": 30,
   "metadata": {},
   "outputs": [
    {
     "name": "stdout",
     "output_type": "stream",
     "text": [
      "Difference = 0.008\n"
     ]
    }
   ],
   "source": [
    "print('Difference =', round((best_accuracy_1 - max(accuracy_list)) * 100, 3))"
   ]
  },
  {
   "cell_type": "markdown",
   "metadata": {},
   "source": [
    "2: Результаты почти одинаковы – отличаются меньше чем на 0.5%"
   ]
  },
  {
   "cell_type": "code",
   "execution_count": null,
   "metadata": {
    "collapsed": true
   },
   "outputs": [],
   "source": [
    "# соеденим два файла\n",
    "!cd 'D:/Anaconda/PyCharm1/'\n",
    "!cat stackoverflow_train.vw stackoverflow_valid.vw > stackoverflow_t_v.vw"
   ]
  },
  {
   "cell_type": "code",
   "execution_count": null,
   "metadata": {
    "collapsed": true
   },
   "outputs": [],
   "source": [
    "# обучим модель на данных вдвое больше\n",
    "./vw --oaa 10 -d 'D:/Anaconda/PyCharm1/stackoverflow_t_v.vw'\n",
    "-f -'D:/Anaconda/PyCharm1/vw_best_model.vw'\n",
    "-b 28 --random_seed 18 --ngram 2 --passes 1"
   ]
  },
  {
   "cell_type": "code",
   "execution_count": null,
   "metadata": {
    "collapsed": true
   },
   "outputs": [],
   "source": [
    "# сделаем прогноз\n",
    "./vw -t -i 'D:/Anaconda/PyCharm1/vw_best_model.vw' # обученная модель\n",
    "-d 'D:/Anaconda/PyCharm1/stackoverflow_test.vw' # какую модель хотим проверить\n",
    "-p 'D:/Anaconda/PyCharm1/vw_best_model_pred_for_test.csv' # куда хотим записать предсказания\n",
    "--random_seed 18"
   ]
  },
  {
   "cell_type": "code",
   "execution_count": 28,
   "metadata": {},
   "outputs": [
    {
     "name": "stdout",
     "output_type": "stream",
     "text": [
      "0.913806255289\n",
      "Difference = 0.337\n"
     ]
    }
   ],
   "source": [
    "vw_test = np.loadtxt(os.path.join(PATH_TO_DATA, 'vw_best_model_pred_for_test.csv'))\n",
    "test_labels = np.loadtxt(os.path.join(PATH_TO_DATA, 'stackoverflow_test_labels.txt'))\n",
    "best_accuracy_2 = accuracy_score(test_labels, vw_test)\n",
    "print(best_accuracy_2)\n",
    "print('Difference =', round((best_accuracy_2 - best_accuracy_1) * 100, 3))"
   ]
  },
  {
   "cell_type": "markdown",
   "metadata": {},
   "source": [
    "3: 0.4% \n"
   ]
  }
 ],
 "metadata": {
  "kernelspec": {
   "display_name": "Python 3",
   "language": "python",
   "name": "python3"
  },
  "language_info": {
   "codemirror_mode": {
    "name": "ipython",
    "version": 3
   },
   "file_extension": ".py",
   "mimetype": "text/x-python",
   "name": "python",
   "nbconvert_exporter": "python",
   "pygments_lexer": "ipython3",
   "version": "3.6.2"
  }
 },
 "nbformat": 4,
 "nbformat_minor": 2
}
